{
 "cells": [
  {
   "cell_type": "code",
   "execution_count": 70,
   "metadata": {},
   "outputs": [],
   "source": [
    "from tkinter import *"
   ]
  },
  {
   "cell_type": "code",
   "execution_count": 71,
   "metadata": {},
   "outputs": [],
   "source": [
    "def sort(A):\n",
    "    result = []\n",
    "    if A[0]*A[len(A)-1] >= 0:  #如果皆为同号\n",
    "        if A[0] >= 0:          #当全是正数时\n",
    "            for k in A:\n",
    "                result.append(k**2)\n",
    "        else:                  #当全是负数时\n",
    "            for k in A[::-1]:  #倒序\n",
    "                result.append(A[i]**2)              \n",
    "    else:                  #如果有正有负\n",
    "        i = -1\n",
    "        while A[i] > 0:   #找到正负分割点\n",
    "            i -= 1\n",
    "            l, r = i, i+1\n",
    "        while l >= -len(A) and r <= -1:   #归并排序\n",
    "            if abs(A[l]) <= A[r]:\n",
    "                result.append(A[l]**2)\n",
    "                l -= 1\n",
    "            else:\n",
    "                result.append(A[r]**2)\n",
    "                r += 1\n",
    "        if r == 0:                 #把剩下的排序\n",
    "            for k in A[l::-1]:\n",
    "                result.append(k**2)\n",
    "        else:                     \n",
    "            for k in A[r::1]:\n",
    "                result.append(k**2)\n",
    "    return(result)"
   ]
  },
  {
   "cell_type": "code",
   "execution_count": 72,
   "metadata": {},
   "outputs": [],
   "source": [
    "def click():\n",
    "    dataset = textbox1.get()\n",
    "    dataset = dataset.strip('[\\n]').split(',')\n",
    "    dataset2 = list(map(int,dataset))\n",
    "    textbox2[\"text\"] = str(sort(dataset2))"
   ]
  },
  {
   "cell_type": "code",
   "execution_count": 75,
   "metadata": {},
   "outputs": [],
   "source": [
    "window = Tk()\n",
    "window.title('Sorting')\n",
    "window.geometry(\"500x200\")\n",
    "label1 = Label(text=\"输入整数数组:\")\n",
    "label1.place(x=50, y=20)\n",
    "textbox1 = Entry(text=\"\")\n",
    "textbox1.place(x=150, y=20, width=200, height=25)\n",
    "textbox1['justify'] = 'center'\n",
    "textbox1.focus()\n",
    "\n",
    "button1 = Button(text='sort', command=click)\n",
    "button1.place(x=30, y=50, width=120, height=25)\n",
    "\n",
    "textbox2 = Message(text=\"\", width=350)\n",
    "textbox2.place(x=150, y=50)\n",
    "textbox2[\"bg\"] = \"white\"\n",
    "textbox2[\"fg\"] = \"black\"\n",
    "window.mainloop()"
   ]
  },
  {
   "cell_type": "code",
   "execution_count": null,
   "metadata": {},
   "outputs": [],
   "source": []
  }
 ],
 "metadata": {
  "kernelspec": {
   "display_name": "Python 3",
   "language": "python",
   "name": "python3"
  },
  "language_info": {
   "codemirror_mode": {
    "name": "ipython",
    "version": 3
   },
   "file_extension": ".py",
   "mimetype": "text/x-python",
   "name": "python",
   "nbconvert_exporter": "python",
   "pygments_lexer": "ipython3",
   "version": "3.7.0"
  }
 },
 "nbformat": 4,
 "nbformat_minor": 2
}
