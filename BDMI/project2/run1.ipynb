{
 "cells": [
  {
   "cell_type": "code",
   "execution_count": 18,
   "metadata": {},
   "outputs": [],
   "source": [
    "def sort(A):\n",
    "    result = []\n",
    "    i = -1\n",
    "    if A[0]*A[len(A)-1] >= 0:  #如果皆为同号\n",
    "        if A[0] >= 0:          #当全是正数时\n",
    "            for k in A:\n",
    "                result.append(k**2)\n",
    "        else:                  #当全是负数时\n",
    "            for k in A[::-1]:  #倒序\n",
    "                result.append(A[i]**2)              \n",
    "    else:                  #如果有正有负\n",
    "        while A[i] > 0:   #找到正负分割点\n",
    "            i -= 1\n",
    "            l, r = i, i+1\n",
    "        while l >= -len(A) and r <= -1:   #归并排序\n",
    "            if abs(A[l]) <= A[r]:\n",
    "                result.append(A[l]**2)\n",
    "                l -= 1\n",
    "            else:\n",
    "                result.append(A[r]**2)\n",
    "                r += 1\n",
    "        if r == 0:                 #把剩下的排序\n",
    "            for k in A[l::-1]:\n",
    "                result.append(k**2)\n",
    "        else:                     \n",
    "            for k in A[r::1]:\n",
    "                result.append(k**2)\n",
    "    return(result)"
   ]
  },
  {
   "cell_type": "code",
   "execution_count": 19,
   "metadata": {},
   "outputs": [],
   "source": [
    "with open('D:\\python_code_projects\\python-exercise\\BDMI\\project2\\pro2_in1.txt', 'r') as f:\n",
    "    sourceline=f.readlines()\n",
    "    dataset=[] \n",
    "with open('D:\\python_code_projects\\python-exercise\\BDMI\\project2\\\\pro2_out1.txt', 'w') as a:\n",
    "    for line in sourceline:\n",
    "        dataset=line.strip('[\\n]').split(',')\n",
    "        dataset2=list(map(int,dataset))\n",
    "        result=sort(dataset2)\n",
    "        print(result,file=a)"
   ]
  },
  {
   "cell_type": "code",
   "execution_count": null,
   "metadata": {},
   "outputs": [],
   "source": []
  }
 ],
 "metadata": {
  "kernelspec": {
   "display_name": "Python 3",
   "language": "python",
   "name": "python3"
  },
  "language_info": {
   "codemirror_mode": {
    "name": "ipython",
    "version": 3
   },
   "file_extension": ".py",
   "mimetype": "text/x-python",
   "name": "python",
   "nbconvert_exporter": "python",
   "pygments_lexer": "ipython3",
   "version": "3.7.0"
  }
 },
 "nbformat": 4,
 "nbformat_minor": 2
}
