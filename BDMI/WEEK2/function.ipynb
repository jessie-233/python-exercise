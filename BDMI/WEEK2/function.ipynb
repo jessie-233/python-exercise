{
 "cells": [
  {
   "cell_type": "code",
   "execution_count": 20,
   "metadata": {},
   "outputs": [
    {
     "name": "stdout",
     "output_type": "stream",
     "text": [
      "3210Runoob012\n"
     ]
    }
   ],
   "source": [
    "#str.strip([chars]) 用于移除字符串头尾指定的字符（默认为空格和换行符）或字符序列\n",
    "str = \"     3210Runoob012  \"; \n",
    "print(str.strip('32').strip())   #先去掉首位的3、2；再去掉空格"
   ]
  },
  {
   "cell_type": "code",
   "execution_count": 15,
   "metadata": {},
   "outputs": [
    {
     "name": "stdout",
     "output_type": "stream",
     "text": [
      "pretty: mixed case\n"
     ]
    }
   ],
   "source": [
    "def strip_and_lowercase(original):\n",
    "    modified = original.strip().lower()\n",
    "    return modified\n",
    "\n",
    "uggly_string = '  MixED CaSe '\n",
    "pretty = strip_and_lowercase(uggly_string)\n",
    "print('pretty: {}'.format(pretty))"
   ]
  },
  {
   "cell_type": "code",
   "execution_count": 21,
   "metadata": {},
   "outputs": [
    {
     "name": "stdout",
     "output_type": "stream",
     "text": [
      "4\n",
      "4\n",
      "4\n",
      "4\n"
     ]
    }
   ],
   "source": [
    "def my_fancy_calculation(first, second, third):\n",
    "    return first + second - third \n",
    "\n",
    "print(my_fancy_calculation(3, 2, 1)) #With only arguments you can't mix the order\n",
    "\n",
    "print(my_fancy_calculation(first=3, second=2, third=1)) #keyword arguments\n",
    "\n",
    "\n",
    "print(my_fancy_calculation(third=1, first=3, second=2)) #With keyword arguments you can mix the order\n",
    "\n",
    "\n",
    "print(my_fancy_calculation(3, third=1, second=2)) #You can mix arguments and keyword arguments but you have to start with arguments"
   ]
  },
  {
   "cell_type": "code",
   "execution_count": 22,
   "metadata": {},
   "outputs": [
    {
     "name": "stdout",
     "output_type": "stream",
     "text": [
      "{'name': 'John Doe', 'age': 82, 'salary': 300}\n",
      "{'name': 'Lisa Doe', 'age': 22, 'salary': 10000, 'job': 'hacker'}\n"
     ]
    }
   ],
   "source": [
    "#Default arguments\n",
    "def create_person_info(name, age, job=None, salary=300):   ##job is a default argument with None\n",
    "    info = {'name': name, 'age': age, 'salary': salary}\n",
    "    if job:                   \n",
    "        info.update(dict(job=job))     # Add 'job' key only if it's provided as parameter  用一个新的dict{'job':job}来update原字典\n",
    "    return info\n",
    "\n",
    "person1 = create_person_info('John Doe', 82)  # use default values for job and salary\n",
    "person2 = create_person_info('Lisa Doe', 22, 'hacker', 10000)\n",
    "print(person1)\n",
    "print(person2)"
   ]
  },
  {
   "cell_type": "code",
   "execution_count": 23,
   "metadata": {},
   "outputs": [
    {
     "name": "stdout",
     "output_type": "stream",
     "text": [
      "[100]\n",
      "[100, 105]\n",
      "[100, 105]\n",
      "[]\n",
      "[100, 105]\n"
     ]
    }
   ],
   "source": [
    "#Don't use mutable objects as default arguments\n",
    "def append_if_multiple_of_five(number, magical_list=[]):\n",
    "    if number % 5 == 0:\n",
    "        magical_list.append(number)\n",
    "    return magical_list\n",
    "\n",
    "print(append_if_multiple_of_five(100))\n",
    "print(append_if_multiple_of_five(105))\n",
    "print(append_if_multiple_of_five(123))\n",
    "print(append_if_multiple_of_five(123, []))\n",
    "print(append_if_multiple_of_five(123))   #一直会append"
   ]
  },
  {
   "cell_type": "code",
   "execution_count": 24,
   "metadata": {},
   "outputs": [
    {
     "name": "stdout",
     "output_type": "stream",
     "text": [
      "[100]\n",
      "[105]\n",
      "[]\n",
      "[]\n",
      "[]\n"
     ]
    }
   ],
   "source": [
    "#Here's how you can achieve desired behavior:\n",
    "def append_if_multiple_of_five(number, magical_list=None):\n",
    "    if not magical_list:\n",
    "        magical_list = []\n",
    "    if number % 5 == 0:\n",
    "        magical_list.append(number)\n",
    "    return magical_list\n",
    "\n",
    "print(append_if_multiple_of_five(100))\n",
    "print(append_if_multiple_of_five(105))\n",
    "print(append_if_multiple_of_five(123))  #None是False\n",
    "print(append_if_multiple_of_five(123, []))  #[]也是False\n",
    "print(append_if_multiple_of_five(123))"
   ]
  },
  {
   "cell_type": "code",
   "execution_count": 25,
   "metadata": {},
   "outputs": [
    {
     "name": "stdout",
     "output_type": "stream",
     "text": [
      "Help on function calculate_sum in module __main__:\n",
      "\n",
      "calculate_sum(val1, val2)\n",
      "    This is a longer docstring defining also the args and the return value. \n",
      "    \n",
      "    Args:\n",
      "        val1: The first parameter.\n",
      "        val2: The second parameter.\n",
      "    \n",
      "    Returns:\n",
      "        The sum of val1 and val2.\n",
      "\n",
      "None\n"
     ]
    }
   ],
   "source": [
    "#Docstrings with \"\"\"......\"\"\" 可换行\n",
    "def calculate_sum(val1, val2):\n",
    "    \"\"\"This is a longer docstring defining also the args and the return value. \n",
    "\n",
    "    Args:\n",
    "        val1: The first parameter.\n",
    "        val2: The second parameter.\n",
    "\n",
    "    Returns:\n",
    "        The sum of val1 and val2.\n",
    "        \n",
    "    \"\"\"\n",
    "    return val1 + val2\n",
    "\n",
    "print(help(calculate_sum))"
   ]
  },
  {
   "cell_type": "code",
   "execution_count": null,
   "metadata": {},
   "outputs": [],
   "source": []
  }
 ],
 "metadata": {
  "kernelspec": {
   "display_name": "Python 3",
   "language": "python",
   "name": "python3"
  },
  "language_info": {
   "codemirror_mode": {
    "name": "ipython",
    "version": 3
   },
   "file_extension": ".py",
   "mimetype": "text/x-python",
   "name": "python",
   "nbconvert_exporter": "python",
   "pygments_lexer": "ipython3",
   "version": "3.7.0"
  }
 },
 "nbformat": 4,
 "nbformat_minor": 2
}
