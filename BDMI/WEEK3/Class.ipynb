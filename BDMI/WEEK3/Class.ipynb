{
 "cells": [
  {
   "cell_type": "code",
   "execution_count": 8,
   "metadata": {},
   "outputs": [],
   "source": [
    "import math"
   ]
  },
  {
   "cell_type": "code",
   "execution_count": 18,
   "metadata": {},
   "outputs": [
    {
     "data": {
      "text/plain": [
       "True"
      ]
     },
     "execution_count": 18,
     "metadata": {},
     "output_type": "execute_result"
    }
   ],
   "source": [
    "#__eq__ 当判断两个对象的值是否相等时，触发此方法。eq-->equal\n",
    "class Staff:\n",
    "    def __init__(self, name:str, sex:str) -> None:\n",
    "        self.name = name\n",
    "        self.sex = sex\n",
    "\n",
    "    def __eq__(self, other) ->bool:  # 定义内置方法\n",
    "        return self.__dict__ == other.__dict__  # 判断的是两对象空间的属性值是否相等，返回布尔值\n",
    "\n",
    "laura = Staff('laura', 'female')\n",
    "laura2 = Staff('laura', 'female')\n",
    "\n",
    "laura == laura2\n"
   ]
  },
  {
   "cell_type": "code",
   "execution_count": 19,
   "metadata": {},
   "outputs": [
    {
     "name": "stdout",
     "output_type": "stream",
     "text": [
      "<__main__.CLanguage object at 0x0000028441005668>\n",
      "the address of C语言中文网 is http://c.biancheng.net\n"
     ]
    }
   ],
   "source": [
    "#__repr__()默认情况下，输出“类名+object at+内存地址”，对我们了解该实例化对象帮助不大；\n",
    "#通过重写类的方法从而实现当输出实例化对象时，输出我们想要的信息\n",
    "#__str__ 和 __repr__方法都是用来显示的，即描述对象信息的。 \n",
    "# __str__的目标是可读性，或者说，__str__的结果是让人看的。主要用来打印，即 print 操作， \n",
    "# __repr__的目标是准确性，或者说，__repr__的结果是让解释器用的。__repr__用于交互模式下提示回应\n",
    "class CLanguage:\n",
    "    pass\n",
    "clangs = CLanguage()\n",
    "print(clangs)\n",
    "\n",
    "class CLanguage:\n",
    "    def __init__(self):\n",
    "        self.name = \"C语言中文网\"\n",
    "        self.add = \"http://c.biancheng.net\"\n",
    "    def __repr__(self):\n",
    "        return 'the address of '+self.name+' is '+self.add\n",
    "    \n",
    "clangs = CLanguage()\n",
    "print(clangs)"
   ]
  },
  {
   "cell_type": "code",
   "execution_count": 33,
   "metadata": {},
   "outputs": [
    {
     "name": "stdout",
     "output_type": "stream",
     "text": [
      "my name is jessie\n",
      "His name is Aviad\n",
      "He is 25 years old\n",
      "His height is 1.83 m\n",
      "Name:     Aviad Age:      25 Height:    1.83\n",
      "Name:Aviad      Age:25       Height:1.83    \n",
      "1.50e-03\n",
      "I'm hungry. I have 22 yuan.\n"
     ]
    }
   ],
   "source": [
    "#转义字符:%s字符串(采用str()的显示) %r字符串 (采用repr()的显示) %d整数 %f浮点数\n",
    "name = 'jessie'\n",
    "print ('my name is %s' %name)\n",
    "print ('His name is %s' %(\"Aviad\"))\n",
    "print (\"He is %d years old\" %(25))\n",
    "print (\"His height is %.2f m\"%(1.833))\n",
    "print (\"Name:%10s Age:%8d Height:%8.2f\"%(\"Aviad\",25,1.83)) #指定占位符宽度（默认右对齐）\n",
    "print (\"Name:%-10s Age:%-8d Height:%-8.2f\"%(\"Aviad\",25,1.83)) #指定占位符宽度（左对齐）\n",
    "print(format(0.0015,'.2e')) #科学计数法\n",
    "print (\"I'm %(c)s. I have %(l)d yuan.\" % {'c':'hungry','l':22}) #用词典来传递真实值"
   ]
  },
  {
   "cell_type": "code",
   "execution_count": 12,
   "metadata": {},
   "outputs": [
    {
     "name": "stdout",
     "output_type": "stream",
     "text": [
      "网站名：菜鸟教程, 地址 www.runoob.com\n",
      "网站名：菜鸟教程, 地址 www.runoob.com\n",
      "网站名：菜鸟教程, 地址 www.runoob.com\n",
      "value为: 6\n",
      "3.14\n",
      "<class 'str'>\n",
      "3.14\n",
      "<class 'float'>\n",
      "type of True and False: <class 'bool'>\n",
      "0: False, 1: True\n",
      "empty list: False, list with values: True\n",
      "empty dict: False, dict with values: True\n"
     ]
    }
   ],
   "source": [
    "#控制字符串格式通常有两种方法，一种是使用%，另一种是格式化字符串的函数 str.format()\n",
    "#<用{}表示的模板字符串>.format(<用逗号分隔的参数>)，逗号分隔的参数来替换到模板字符串中的花括号{}位置处\n",
    "\n",
    "\"{} {}\".format(\"hello\", \"world\") \n",
    "\n",
    "\"{1} {0} {1}\".format(\"hello\", \"world\")  # 设置指定位置\n",
    "\n",
    "print(\"网站名：{name}, 地址 {url}\".format(name=\"菜鸟教程\", url=\"www.runoob.com\"))\n",
    " \n",
    "\n",
    "site = {\"name\": \"菜鸟教程\", \"url\": \"www.runoob.com\"} # 通过字典设置参数\n",
    "print(\"网站名：{name}, 地址 {url}\".format(**site))\n",
    " \n",
    "\n",
    "my_list = ['菜鸟教程', 'www.runoob.com'] # 通过列表索引设置参数\n",
    "print(\"网站名：{0[0]}, 地址 {0[1]}\".format(my_list))  # \"0\" 是必须的，指代my_list\n",
    "\n",
    "\n",
    "class AssignValue(object):      #也可以向 str.format() 传入对象\n",
    "    def __init__(self, value):\n",
    "        self.value = value\n",
    "my_value = AssignValue(6)\n",
    "print('value为: {0.value}'.format(my_value))  # \"0\" 是可选的,因为只有一个花括号位置。指代my_value\n",
    "\n",
    "\n",
    "#数字格式化：下表展示了 str.format() 格式化数字的多种方法\n",
    "print(\"{:.2f}\".format(3.1415926))\n",
    "print(type(\"{:.2f}\".format(3.1415926)))\n",
    "print(float(\"{:.2f}\".format(3.1415926)))\n",
    "print(type(float(\"{:.2f}\".format(3.1415926))))\n",
    "\n",
    "\n",
    "\n",
    "print('type of True and False: {}'.format(type(True)))\n",
    "print('0: {}, 1: {}'.format(bool(0), bool(1))) #0是False 1是True\n",
    "print('empty list: {}, list with values: {}'.format(bool([]), bool(['woop'])))  #空是False，有元素即是True\n",
    "print('empty dict: {}, dict with values: {}'.format(bool({}), bool({'Python': 'cool'})))"
   ]
  },
  {
   "cell_type": "code",
   "execution_count": 53,
   "metadata": {},
   "outputs": [],
   "source": [
    "class Point:\n",
    "    def __init__(self,x=0,y=0):\n",
    "        self.x=x\n",
    "        self.y=y\n",
    "        \n",
    "    def distance_from_origin(self):\n",
    "        return math.hypot(self.x,self.y)   #hypot() 返回欧几里德范数 sqrt(x*x + y*y)\n",
    "    \n",
    "    def __eq__(self,other):\n",
    "        return self.x==other.x and self.y==other.y #x相等且y相等才返回True\n",
    "    \n",
    "    def __repr__(self):\n",
    "        return \"Point({0.x!r},{0.y!r})\".format(self)  #x!r代表repr(x)，x!s代表str(x)，x!a代表ascii(x)\n",
    "    \n",
    "    def __str__(self):\n",
    "        return \"({0.x!s},{0.y!s})\".format(self)\n",
    "    "
   ]
  },
  {
   "cell_type": "code",
   "execution_count": 69,
   "metadata": {},
   "outputs": [
    {
     "name": "stdout",
     "output_type": "stream",
     "text": [
      "0.0\n",
      "Point(0,0)\n",
      "Point(0,0)\n",
      "(0,0)\n"
     ]
    }
   ],
   "source": [
    "a=Point()\n",
    "\n",
    "print(a.distance_from_origin())\n",
    "print(repr(a))\n",
    "print(a.__repr__())\n",
    "print(a)"
   ]
  },
  {
   "cell_type": "code",
   "execution_count": 70,
   "metadata": {},
   "outputs": [
    {
     "name": "stdout",
     "output_type": "stream",
     "text": [
      "(0,0)\n"
     ]
    },
    {
     "data": {
      "text/plain": [
       "Point(0,0)"
      ]
     },
     "execution_count": 70,
     "metadata": {},
     "output_type": "execute_result"
    }
   ],
   "source": [
    "print(a)\n",
    "\n",
    "a"
   ]
  },
  {
   "cell_type": "code",
   "execution_count": 72,
   "metadata": {},
   "outputs": [
    {
     "data": {
      "text/plain": [
       "'(3,4)'"
      ]
     },
     "execution_count": 72,
     "metadata": {},
     "output_type": "execute_result"
    }
   ],
   "source": [
    "b=Point(3,4)\n",
    "str(b)"
   ]
  },
  {
   "cell_type": "code",
   "execution_count": 73,
   "metadata": {},
   "outputs": [
    {
     "data": {
      "text/plain": [
       "5.0"
      ]
     },
     "execution_count": 73,
     "metadata": {},
     "output_type": "execute_result"
    }
   ],
   "source": [
    "b.distance_from_origin()"
   ]
  },
  {
   "cell_type": "code",
   "execution_count": 75,
   "metadata": {},
   "outputs": [
    {
     "data": {
      "text/plain": [
       "'(-19,4)'"
      ]
     },
     "execution_count": 75,
     "metadata": {},
     "output_type": "execute_result"
    }
   ],
   "source": [
    "b.x=-19\n",
    "str(b)"
   ]
  },
  {
   "cell_type": "code",
   "execution_count": 76,
   "metadata": {},
   "outputs": [
    {
     "data": {
      "text/plain": [
       "False"
      ]
     },
     "execution_count": 76,
     "metadata": {},
     "output_type": "execute_result"
    }
   ],
   "source": [
    "a==b"
   ]
  },
  {
   "cell_type": "code",
   "execution_count": 3,
   "metadata": {},
   "outputs": [
    {
     "name": "stdout",
     "output_type": "stream",
     "text": [
      "3\n"
     ]
    }
   ],
   "source": [
    "#super() 函数是用于调用父类(超类)的一个方法\n",
    "class A:\n",
    "     def add(self, x):\n",
    "         y = x+1\n",
    "         print(y)\n",
    "class B(A):\n",
    "    def add(self, x):\n",
    "        super().add(x)\n",
    "b = B()\n",
    "b.add(2)"
   ]
  },
  {
   "cell_type": "code",
   "execution_count": 2,
   "metadata": {},
   "outputs": [
    {
     "name": "stdout",
     "output_type": "stream",
     "text": [
      "Parent\n",
      "Child\n"
     ]
    }
   ],
   "source": [
    "class FooParent(object):\n",
    "    def __init__(self):\n",
    "        self.parent = 'I\\'m the parent.'\n",
    "        print ('Parent')\n",
    "    \n",
    "    def bar(self,message):\n",
    "        print (\"%s from Parent\" % message)\n",
    " \n",
    "class FooChild(FooParent):\n",
    "    def __init__(self):\n",
    "        super(FooChild,self).__init__() # super(FooChild,self) 首先找到 FooChild 的父类（就是类 FooParent），然后把类 FooChild 的对象转换为类 FooParent 的对象\n",
    "        print ('Child')                 #super(FooChild,self)中内容可省略\n",
    "        \n",
    "    def bar(self,message):\n",
    "        super(FooChild, self).bar(message)\n",
    "        print ('Child bar fuction')\n",
    "        print (self.parent)\n",
    " \n",
    "if __name__ == '__main__':\n",
    "    fooChild = FooChild()\n"
   ]
  },
  {
   "cell_type": "code",
   "execution_count": 4,
   "metadata": {},
   "outputs": [
    {
     "name": "stdout",
     "output_type": "stream",
     "text": [
      "HelloWorld from Parent\n",
      "Child bar fuction\n",
      "I'm the parent.\n"
     ]
    }
   ],
   "source": [
    "fooChild.bar('HelloWorld')"
   ]
  },
  {
   "cell_type": "code",
   "execution_count": 5,
   "metadata": {},
   "outputs": [],
   "source": [
    "class Point:\n",
    "    def __init__(self,x=0,y=0):\n",
    "        self.x=x\n",
    "        self.y=y\n",
    "        \n",
    "    def distance_from_origin(self):\n",
    "        return math.hypot(self.x,self.y)   #hypot() 返回欧几里德范数 sqrt(x*x + y*y)\n",
    "    \n",
    "    def __eq__(self,other):\n",
    "        return self.x==other.x and self.y==other.y #x相等且y相等才返回True\n",
    "    \n",
    "    def __repr__(self):\n",
    "        return \"Point({0.x!r},{0.y!r})\".format(self)  #x!r代表repr(x)，x!s代表str(x)，x!a代表ascii(x)\n",
    "    \n",
    "    def __str__(self):\n",
    "        return \"({0.x!s},{0.y!s})\".format(self)\n",
    "    \n",
    "    \n",
    "class Circle(Point):\n",
    "    def __init__(self,radius,x=0,y=0):   #半径&点坐标\n",
    "        super().__init__(x,y)\n",
    "        self.radius=radius\n",
    "\n",
    "    def edge_distance_from_origin(self):\n",
    "        return abs(self.distance_from_origin()-self.radius)\n",
    "\n",
    "    def area(self):\n",
    "        return math.pi*(self.radius**2)\n",
    "\n",
    "    def circumference(self):\n",
    "        return 2*math.pi*self.radius\n",
    "\n",
    "    def __eq__(self, other):\n",
    "        return self.radius==other.radius and super().__eq__(other) #半径相同 且 点坐标相同\n",
    "\n",
    "    def __repr__(self):\n",
    "        return \"Circle({0.radius!r},{0.x!r},{0.y!r}\".format(self)\n",
    "\n",
    "    def __str__(self):\n",
    "        return repr(self)"
   ]
  },
  {
   "cell_type": "code",
   "execution_count": 6,
   "metadata": {},
   "outputs": [],
   "source": [
    "p=Point(28,45)\n",
    "c=Circle(5,28,45)"
   ]
  },
  {
   "cell_type": "code",
   "execution_count": 9,
   "metadata": {},
   "outputs": [
    {
     "data": {
      "text/plain": [
       "53.0"
      ]
     },
     "execution_count": 9,
     "metadata": {},
     "output_type": "execute_result"
    }
   ],
   "source": [
    "p.distance_from_origin()"
   ]
  },
  {
   "cell_type": "code",
   "execution_count": 10,
   "metadata": {},
   "outputs": [
    {
     "data": {
      "text/plain": [
       "53.0"
      ]
     },
     "execution_count": 10,
     "metadata": {},
     "output_type": "execute_result"
    }
   ],
   "source": [
    "c.distance_from_origin()  #Circle没有这个行为，但通过super()找到？"
   ]
  },
  {
   "cell_type": "code",
   "execution_count": null,
   "metadata": {},
   "outputs": [],
   "source": []
  }
 ],
 "metadata": {
  "kernelspec": {
   "display_name": "Python 3",
   "language": "python",
   "name": "python3"
  },
  "language_info": {
   "codemirror_mode": {
    "name": "ipython",
    "version": 3
   },
   "file_extension": ".py",
   "mimetype": "text/x-python",
   "name": "python",
   "nbconvert_exporter": "python",
   "pygments_lexer": "ipython3",
   "version": "3.7.0"
  }
 },
 "nbformat": 4,
 "nbformat_minor": 2
}
