{
 "cells": [
  {
   "cell_type": "code",
   "execution_count": 2,
   "metadata": {},
   "outputs": [
    {
     "name": "stdout",
     "output_type": "stream",
     "text": [
      "[3, 5, 38, 44]\n"
     ]
    }
   ],
   "source": [
    "def Bubble_Sort(li):\n",
    "    n = len(li)\n",
    "    for i in range(n-1):\n",
    "        for j in range(n-i-1):\n",
    "            if li[j] > li[j+1]:\n",
    "                li[j], li[j+1] = li[j+1], li[j]\n",
    " \n",
    "li = [3, 44, 38, 5]\n",
    "Bubble_Sort(li)\n",
    "print(li)"
   ]
  },
  {
   "cell_type": "code",
   "execution_count": 4,
   "metadata": {},
   "outputs": [
    {
     "name": "stdout",
     "output_type": "stream",
     "text": [
      "[3, 5, 38, 44]\n"
     ]
    }
   ],
   "source": [
    "def Insertion_Sort(li):\n",
    "    n = len(li)\n",
    "    for i in range(1, n):\n",
    "        for j in range(i, 0, -1):\n",
    "            if li[j] < li[j-1]:\n",
    "                li[j], li[j-1] = li[j-1], li[j]\n",
    " \n",
    "li = [3, 44, 38, 5]\n",
    "Insertion_Sort(li)\n",
    "print(li)"
   ]
  },
  {
   "cell_type": "code",
   "execution_count": 6,
   "metadata": {},
   "outputs": [
    {
     "name": "stdout",
     "output_type": "stream",
     "text": [
      "[3, 5, 38, 44]\n"
     ]
    }
   ],
   "source": [
    "def Selection_Sort(li):\n",
    "    n = len(li)\n",
    "    for i in range(n-1):\n",
    "        for j in range(i+1, n):\n",
    "            if li[j] < li[i]:\n",
    "                li[j], li[i] = li[i], li[j]\n",
    " \n",
    "li = [3, 44, 38, 5,]\n",
    "Selection_Sort(li)\n",
    "print(li)"
   ]
  },
  {
   "cell_type": "code",
   "execution_count": 20,
   "metadata": {},
   "outputs": [
    {
     "name": "stdout",
     "output_type": "stream",
     "text": [
      "[3, 5, 38, 44]\n"
     ]
    }
   ],
   "source": [
    "def merge_sort(li):\n",
    "    if len(li) <= 1:\n",
    "        return li\n",
    " \n",
    " \n",
    "    num = int(len(li)/2)\n",
    "    left = merge_sort(li[0:num])\n",
    "    right = merge_sort(li[num:len(li)])\n",
    " \n",
    "  \n",
    "    return merge(left, right)\n",
    " \n",
    " \n",
    "def merge(left, right):\n",
    "    l, r = 0, 0\n",
    "    result = []\n",
    "    while l < len(left) and r < len(right):\n",
    "        if left[l] < right[r]:\n",
    "            result.append(left[l])\n",
    "            l += 1\n",
    "        else:\n",
    "            result.append(right[r])\n",
    "            r += 1\n",
    " \n",
    "    result += left[l:len(li)]\n",
    "    result += right[r:len(li)]\n",
    "    return result\n",
    " \n",
    "li = [3, 44, 38, 5]\n",
    "sort_li = merge_sort(li)\n",
    "print(sort_li)"
   ]
  },
  {
   "cell_type": "code",
   "execution_count": 1,
   "metadata": {},
   "outputs": [],
   "source": [
    "import random\n",
    "def quicksort(A):\n",
    "    if len(A)<=1:\n",
    "        return A\n",
    "    L = []\n",
    "    R = []\n",
    "    p = random.choice(range(len(A)))\n",
    "    E = [A[p]]\n",
    "    for i in range(len(A)):\n",
    "        if i == p:\n",
    "            continue\n",
    "        if A[i] < A[p]:\n",
    "            L.append(A[i])\n",
    "        else:\n",
    "            R.append(A[i])\n",
    "    return quicksort(L) + E + quicksort(R)\n"
   ]
  },
  {
   "cell_type": "code",
   "execution_count": 2,
   "metadata": {},
   "outputs": [
    {
     "data": {
      "text/plain": [
       "[1, 2, 3, 4, 5, 6, 7, 8, 9]"
      ]
     },
     "execution_count": 2,
     "metadata": {},
     "output_type": "execute_result"
    }
   ],
   "source": [
    "A = [6,4,2,9,3,8,5,1,7]\n",
    "quicksort(A)"
   ]
  },
  {
   "cell_type": "code",
   "execution_count": 10,
   "metadata": {},
   "outputs": [],
   "source": [
    "def bucketSort(nums):\n",
    "    # 创建一个元素全是0的列表, 当做桶\n",
    "    bucket = [0]*(max(nums)+1)\n",
    "    # 把所有元素放入桶中, 即把对应元素个数加一\n",
    "    for i in nums:\n",
    "        bucket[i] += 1\n",
    " \n",
    "    # 存储排序好的元素\n",
    "    sort_nums = []\n",
    "    # 取出桶中的元素\n",
    "    for j in range(len(bucket)):\n",
    "        if bucket[j] != 0:\n",
    "            for y in range(bucket[j]):\n",
    "                sort_nums.append(j)\n",
    " \n",
    "    return sort_nums\n"
   ]
  },
  {
   "cell_type": "code",
   "execution_count": 11,
   "metadata": {},
   "outputs": [
    {
     "name": "stdout",
     "output_type": "stream",
     "text": [
      "[2, 3, 4, 5, 5, 7, 43, 657, 866]\n"
     ]
    }
   ],
   "source": [
    "num = (3,2,43,657,866,4,5,7,5)\n",
    "print(bucketSort(num))"
   ]
  },
  {
   "cell_type": "code",
   "execution_count": 12,
   "metadata": {},
   "outputs": [],
   "source": [
    "#更节省空间的桶排序\n",
    "def bucket_sort(lst):\n",
    "    buckets = [0]*((max(lst) - min(lst))+1)\n",
    "    for i in range(len(lst)):\n",
    "        buckets[lst[i]-min(lst)] += 1\n",
    "    res=[]\n",
    "    for i in range(len(buckets)):\n",
    "        if buckets[i] != 0:\n",
    "            res += [i+min(lst)]*buckets[i]\n",
    "    return res"
   ]
  },
  {
   "cell_type": "code",
   "execution_count": 13,
   "metadata": {},
   "outputs": [
    {
     "name": "stdout",
     "output_type": "stream",
     "text": [
      "[2, 3, 4, 5, 5, 7, 43, 657, 866]\n"
     ]
    }
   ],
   "source": [
    "num = [3,2,43,657,866,4,5,7,5]\n",
    "print(bucketSort(num))"
   ]
  },
  {
   "cell_type": "code",
   "execution_count": 18,
   "metadata": {},
   "outputs": [],
   "source": [
    "def RadixSort(a):\n",
    "    i = 0                                             #初始为个位排序\n",
    "    n = 1                                           #最小的位数置为1（包含0）\n",
    "    max_num = max(a)                       #得到带排序数组中最大数\n",
    "    while max_num >= 10**n:              #得到最大数是几位数\n",
    "        n += 1\n",
    "    while i < n:\n",
    "        bucket = {}                             #用字典构建桶\n",
    "        for x in range(10):\n",
    "            bucket.setdefault(x, [])    #将每个桶置空\n",
    "        for x in a:                               #对每一位进行排序\n",
    "            radix =int((x / (10**i)) % 10)   #得到每位的基数\n",
    "            bucket[radix].append(x) #将对应的数组元素加入到相应位基数的桶中\n",
    "        j = 0\n",
    "        for k in range(10):\n",
    "            if len(bucket[k]) != 0:       #若桶不为空\n",
    "                for y in bucket[k]:         #将该桶中每个元素\n",
    "                    a[j] = y                       #放回到数组中\n",
    "                    j += 1\n",
    "        i += 1\n",
    "    return a"
   ]
  },
  {
   "cell_type": "code",
   "execution_count": 19,
   "metadata": {},
   "outputs": [
    {
     "name": "stdout",
     "output_type": "stream",
     "text": [
      "[2, 3, 4, 5, 5, 7, 43, 657, 866]\n"
     ]
    }
   ],
   "source": [
    "num = [3,2,43,657,866,4,5,7,5]\n",
    "print(RadixSort(num))"
   ]
  },
  {
   "cell_type": "code",
   "execution_count": null,
   "metadata": {},
   "outputs": [],
   "source": []
  }
 ],
 "metadata": {
  "kernelspec": {
   "display_name": "Python 3",
   "language": "python",
   "name": "python3"
  },
  "language_info": {
   "codemirror_mode": {
    "name": "ipython",
    "version": 3
   },
   "file_extension": ".py",
   "mimetype": "text/x-python",
   "name": "python",
   "nbconvert_exporter": "python",
   "pygments_lexer": "ipython3",
   "version": "3.7.0"
  }
 },
 "nbformat": 4,
 "nbformat_minor": 2
}
