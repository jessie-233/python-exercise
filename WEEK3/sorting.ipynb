{
 "cells": [
  {
   "cell_type": "code",
   "execution_count": 2,
   "metadata": {},
   "outputs": [
    {
     "name": "stdout",
     "output_type": "stream",
     "text": [
      "[3, 5, 38, 44]\n"
     ]
    }
   ],
   "source": [
    "def Bubble_Sort(li):\n",
    "    n = len(li)\n",
    "    for i in range(n-1):\n",
    "        for j in range(n-i-1):\n",
    "            if li[j] > li[j+1]:\n",
    "                li[j], li[j+1] = li[j+1], li[j]\n",
    " \n",
    "li = [3, 44, 38, 5]\n",
    "Bubble_Sort(li)\n",
    "print(li)"
   ]
  },
  {
   "cell_type": "code",
   "execution_count": 4,
   "metadata": {},
   "outputs": [
    {
     "name": "stdout",
     "output_type": "stream",
     "text": [
      "[3, 5, 38, 44]\n"
     ]
    }
   ],
   "source": [
    "def Insertion_Sort(li):\n",
    "    n = len(li)\n",
    "    for i in range(1, n):\n",
    "        for j in range(i, 0, -1):\n",
    "            if li[j] < li[j-1]:\n",
    "                li[j], li[j-1] = li[j-1], li[j]\n",
    " \n",
    "li = [3, 44, 38, 5]\n",
    "Insertion_Sort(li)\n",
    "print(li)"
   ]
  },
  {
   "cell_type": "code",
   "execution_count": 6,
   "metadata": {},
   "outputs": [
    {
     "name": "stdout",
     "output_type": "stream",
     "text": [
      "[3, 5, 38, 44]\n"
     ]
    }
   ],
   "source": [
    "def Selection_Sort(li):\n",
    "    n = len(li)\n",
    "    for i in range(n-1):\n",
    "        for j in range(i+1, n):\n",
    "            if li[j] < li[i]:\n",
    "                li[j], li[i] = li[i], li[j]\n",
    " \n",
    "li = [3, 44, 38, 5,]\n",
    "Selection_Sort(li)\n",
    "print(li)"
   ]
  },
  {
   "cell_type": "code",
   "execution_count": 14,
   "metadata": {},
   "outputs": [
    {
     "name": "stdout",
     "output_type": "stream",
     "text": [
      "[3, 5, 38, 44]\n"
     ]
    }
   ],
   "source": [
    "def merge_sort(li):\n",
    "    if len(li) <= 1:\n",
    "        return li\n",
    " \n",
    " \n",
    "    num = int(len(li)/2)\n",
    "    left = merge_sort(li[0:num])\n",
    "    right = merge_sort(li[num:len(li)])\n",
    " \n",
    "  \n",
    "    return merge(left, right)\n",
    " \n",
    " \n",
    "def merge(left, right):\n",
    "    l, r = 0, 0\n",
    "    result = []\n",
    "    while l < len(left) and r < len(right):\n",
    "        if left[l] < right[r]:\n",
    "            result.append(left[l])\n",
    "            l += 1\n",
    "        else:\n",
    "            result.append(right[r])\n",
    "            r += 1\n",
    " \n",
    "    result += left[l:len(li)]\n",
    "    result += right[r:len(li)]\n",
    "    return result\n",
    " \n",
    "li = [3, 44, 38, 5]\n",
    "sort_li = merge_sort(li)\n",
    "print(sort_li)"
   ]
  },
  {
   "cell_type": "code",
   "execution_count": null,
   "metadata": {},
   "outputs": [],
   "source": []
  }
 ],
 "metadata": {
  "kernelspec": {
   "display_name": "Python 3",
   "language": "python",
   "name": "python3"
  },
  "language_info": {
   "codemirror_mode": {
    "name": "ipython",
    "version": 3
   },
   "file_extension": ".py",
   "mimetype": "text/x-python",
   "name": "python",
   "nbconvert_exporter": "python",
   "pygments_lexer": "ipython3",
   "version": "3.7.0"
  }
 },
 "nbformat": 4,
 "nbformat_minor": 2
}
