{
 "cells": [
  {
   "cell_type": "code",
   "execution_count": 81,
   "metadata": {},
   "outputs": [],
   "source": [
    "def is_word_palindrome(file: str):\n",
    "    with open(file, 'r') as f:\n",
    "        k = 0  #行数\n",
    "        for line in f.readlines():\n",
    "            k += 1\n",
    "            s = list(line.lower()) #字符串转列表，小写\n",
    "            txt = []\n",
    "            flag = True\n",
    "            for item in s:  #提取出纯字母\n",
    "                if item.isalpha():\n",
    "                    txt.append(item)\n",
    "            for i in range(int(len(txt)/2)):  #判断是否回文\n",
    "                if txt[i] != txt[len(txt)-1-i]:\n",
    "                    flag = False\n",
    "                    break\n",
    "            if flag:\n",
    "                print('第%d行是回文'%k)\n",
    "            else:\n",
    "                print('第%d行不是回文'%k)"
   ]
  },
  {
   "cell_type": "code",
   "execution_count": 82,
   "metadata": {},
   "outputs": [
    {
     "name": "stdout",
     "output_type": "stream",
     "text": [
      "第1行是回文\n",
      "第2行是回文\n",
      "第3行不是回文\n",
      "第4行是回文\n"
     ]
    }
   ],
   "source": [
    "is_word_palindrome('Q1.txt')"
   ]
  }
 ],
 "metadata": {
  "kernelspec": {
   "display_name": "Python 3",
   "language": "python",
   "name": "python3"
  },
  "language_info": {
   "codemirror_mode": {
    "name": "ipython",
    "version": 3
   },
   "file_extension": ".py",
   "mimetype": "text/x-python",
   "name": "python",
   "nbconvert_exporter": "python",
   "pygments_lexer": "ipython3",
   "version": "3.7.0"
  }
 },
 "nbformat": 4,
 "nbformat_minor": 2
}
