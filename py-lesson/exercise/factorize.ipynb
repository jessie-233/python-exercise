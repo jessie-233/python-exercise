{
 "cells": [
  {
   "cell_type": "code",
   "execution_count": 25,
   "metadata": {},
   "outputs": [],
   "source": [
    "def factorize():\n",
    "    n = eval(input('input an integer no less than 2:'))\n",
    "    i = 2\n",
    "    num = []\n",
    "    while(n >= 2):\n",
    "        if(n%i == 0):\n",
    "            n = n/i\n",
    "            num.append(i)\n",
    "        else:\n",
    "            i += 1 \n",
    "    print('n=', end = '')\n",
    "    print(*num, sep = '*')"
   ]
  },
  {
   "cell_type": "code",
   "execution_count": 26,
   "metadata": {},
   "outputs": [
    {
     "name": "stdout",
     "output_type": "stream",
     "text": [
      "input an integer no less than 2:789\n",
      "n=3*263\n"
     ]
    }
   ],
   "source": [
    "factorize()"
   ]
  },
  {
   "cell_type": "code",
   "execution_count": null,
   "metadata": {},
   "outputs": [],
   "source": []
  }
 ],
 "metadata": {
  "kernelspec": {
   "display_name": "Python 3",
   "language": "python",
   "name": "python3"
  },
  "language_info": {
   "codemirror_mode": {
    "name": "ipython",
    "version": 3
   },
   "file_extension": ".py",
   "mimetype": "text/x-python",
   "name": "python",
   "nbconvert_exporter": "python",
   "pygments_lexer": "ipython3",
   "version": "3.7.0"
  }
 },
 "nbformat": 4,
 "nbformat_minor": 2
}
