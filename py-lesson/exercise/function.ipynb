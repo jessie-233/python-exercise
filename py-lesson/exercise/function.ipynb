{
 "cells": [
  {
   "cell_type": "code",
   "execution_count": 3,
   "metadata": {},
   "outputs": [],
   "source": [
    "#函数接收参数列表\n",
    "def myfun(*args):\n",
    "    sum = 0\n",
    "    for i in args:\n",
    "        sum += i\n",
    "    print('和为%d'%sum)\n",
    "    "
   ]
  },
  {
   "cell_type": "code",
   "execution_count": 5,
   "metadata": {},
   "outputs": [
    {
     "name": "stdout",
     "output_type": "stream",
     "text": [
      "和为96\n"
     ]
    }
   ],
   "source": [
    "myfun(1,3,6,8,78)"
   ]
  },
  {
   "cell_type": "code",
   "execution_count": 9,
   "metadata": {},
   "outputs": [
    {
     "name": "stdout",
     "output_type": "stream",
     "text": [
      "和为96\n"
     ]
    }
   ],
   "source": [
    "a = [1,3,6,8,78]\n",
    "myfun(*a)   #需要加*号，他会展开为由单个参数组成的参数列表"
   ]
  },
  {
   "cell_type": "code",
   "execution_count": 10,
   "metadata": {},
   "outputs": [],
   "source": [
    "#函数接收参数字典\n",
    "def myfun2(**kwargs):\n",
    "    for k, v in kwargs.items():\n",
    "        print(k, v, sep='->', end=' ')\n",
    "        "
   ]
  },
  {
   "cell_type": "code",
   "execution_count": 11,
   "metadata": {},
   "outputs": [
    {
     "name": "stdout",
     "output_type": "stream",
     "text": [
      "a->10 b->2 "
     ]
    }
   ],
   "source": [
    "myfun2(a=10, b=2)"
   ]
  },
  {
   "cell_type": "code",
   "execution_count": 12,
   "metadata": {},
   "outputs": [
    {
     "name": "stdout",
     "output_type": "stream",
     "text": [
      "NAME->JACK GENDER->MALE AGE->32 "
     ]
    }
   ],
   "source": [
    "b = {'NAME':'JACK', \n",
    "    'GENDER':'MALE',\n",
    "    'AGE':32}\n",
    "\n",
    "myfun2(**b)     #需要加**号，把字典处理为键值集合"
   ]
  },
  {
   "cell_type": "code",
   "execution_count": 17,
   "metadata": {},
   "outputs": [],
   "source": [
    "#结合\n",
    "def myfun3(*args,**kwargs):\n",
    "    if args:\n",
    "        for i in args:\n",
    "            print(i, end=' ')\n",
    "        print()   #换行之用\n",
    "    if kwargs:\n",
    "        for k, v in kwargs.items():\n",
    "            print(k, v, sep='->', end=' ')"
   ]
  },
  {
   "cell_type": "code",
   "execution_count": 18,
   "metadata": {},
   "outputs": [
    {
     "name": "stdout",
     "output_type": "stream",
     "text": [
      "1 3 6 8 78 \n",
      "NAME->JACK GENDER->MALE AGE->32 "
     ]
    }
   ],
   "source": [
    "myfun3(*a, **b)"
   ]
  },
  {
   "cell_type": "code",
   "execution_count": null,
   "metadata": {},
   "outputs": [],
   "source": []
  }
 ],
 "metadata": {
  "kernelspec": {
   "display_name": "Python 3",
   "language": "python",
   "name": "python3"
  },
  "language_info": {
   "codemirror_mode": {
    "name": "ipython",
    "version": 3
   },
   "file_extension": ".py",
   "mimetype": "text/x-python",
   "name": "python",
   "nbconvert_exporter": "python",
   "pygments_lexer": "ipython3",
   "version": "3.7.0"
  }
 },
 "nbformat": 4,
 "nbformat_minor": 2
}
