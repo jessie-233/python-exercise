{
 "cells": [
  {
   "cell_type": "code",
   "execution_count": 6,
   "metadata": {},
   "outputs": [
    {
     "name": "stdout",
     "output_type": "stream",
     "text": [
      "enter a number: 3\n",
      "enter another number: 4\n",
      "enter another number: 5\n",
      "enter another number: 6\n",
      "enter another number: 0\n",
      "均值为：4.50\n",
      "方差为：1.67\n"
     ]
    }
   ],
   "source": [
    "count = 0\n",
    "sum1 = 0\n",
    "sum2 = 0\n",
    "a = eval(input('enter a number: '))\n",
    "while a != 0:\n",
    "    count += 1\n",
    "    sum1 += float(a)\n",
    "    sum2 += float(a**2)\n",
    "    a = eval(input ('enter another number: '))\n",
    "aver = sum1 / count\n",
    "var = (sum2-2*sum1*aver+count*aver**2)/(count-1)\n",
    "print('均值为：%.2f\\n方差为：%.2f'%(aver,var))"
   ]
  },
  {
   "cell_type": "code",
   "execution_count": null,
   "metadata": {},
   "outputs": [],
   "source": []
  }
 ],
 "metadata": {
  "kernelspec": {
   "display_name": "Python 3",
   "language": "python",
   "name": "python3"
  },
  "language_info": {
   "codemirror_mode": {
    "name": "ipython",
    "version": 3
   },
   "file_extension": ".py",
   "mimetype": "text/x-python",
   "name": "python",
   "nbconvert_exporter": "python",
   "pygments_lexer": "ipython3",
   "version": "3.7.0"
  }
 },
 "nbformat": 4,
 "nbformat_minor": 2
}
