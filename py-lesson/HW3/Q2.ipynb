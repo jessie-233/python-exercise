{
 "cells": [
  {
   "cell_type": "code",
   "execution_count": 4,
   "metadata": {},
   "outputs": [],
   "source": [
    "def sum_digit(n):\n",
    "    nums = []\n",
    "    j = 10\n",
    "    sum = 0\n",
    "    while not(0 <= j <= 9):\n",
    "        i = n % 10\n",
    "        nums.append(i)\n",
    "        j = int(n / 10)\n",
    "        n = j\n",
    "    nums.append(j)\n",
    "    for num in nums:\n",
    "        sum += num\n",
    "    if not(1 <= sum <= 9):\n",
    "        return(sum_digit(sum))\n",
    "    else:\n",
    "        return(sum)"
   ]
  },
  {
   "cell_type": "code",
   "execution_count": 28,
   "metadata": {},
   "outputs": [
    {
     "name": "stdout",
     "output_type": "stream",
     "text": [
      "1\n"
     ]
    }
   ],
   "source": [
    "print(sum_digit(1))"
   ]
  },
  {
   "cell_type": "code",
   "execution_count": 31,
   "metadata": {},
   "outputs": [
    {
     "name": "stdout",
     "output_type": "stream",
     "text": [
      "5\n"
     ]
    }
   ],
   "source": [
    "print(sum_digit(1283))"
   ]
  },
  {
   "cell_type": "code",
   "execution_count": 32,
   "metadata": {},
   "outputs": [
    {
     "name": "stdout",
     "output_type": "stream",
     "text": [
      "1出现的比例为：11.11%\n",
      "2出现的比例为：11.11%\n",
      "3出现的比例为：11.11%\n",
      "4出现的比例为：11.11%\n",
      "5出现的比例为：11.11%\n",
      "6出现的比例为：11.11%\n",
      "7出现的比例为：11.11%\n",
      "8出现的比例为：11.11%\n",
      "9出现的比例为：11.11%\n"
     ]
    }
   ],
   "source": [
    "sums = []\n",
    "for x in range(1,100000):\n",
    "    sums.append(sum_digit(x))\n",
    "for i in range(1,10):\n",
    "    time = sums.count(i)\n",
    "    comp = time / len(sums) *100\n",
    "    print('%d出现的比例为：%.2f%%'%(i,comp))\n",
    "   "
   ]
  },
  {
   "cell_type": "code",
   "execution_count": null,
   "metadata": {},
   "outputs": [],
   "source": []
  }
 ],
 "metadata": {
  "kernelspec": {
   "display_name": "Python 3",
   "language": "python",
   "name": "python3"
  },
  "language_info": {
   "codemirror_mode": {
    "name": "ipython",
    "version": 3
   },
   "file_extension": ".py",
   "mimetype": "text/x-python",
   "name": "python",
   "nbconvert_exporter": "python",
   "pygments_lexer": "ipython3",
   "version": "3.7.0"
  }
 },
 "nbformat": 4,
 "nbformat_minor": 2
}
