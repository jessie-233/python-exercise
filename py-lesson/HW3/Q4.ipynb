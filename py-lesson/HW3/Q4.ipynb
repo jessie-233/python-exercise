{
 "cells": [
  {
   "cell_type": "code",
   "execution_count": 3,
   "metadata": {},
   "outputs": [],
   "source": [
    "import random  \n",
    "import matplotlib.pyplot as plt\n",
    "\n",
    "def MonPi(number):\n",
    "    N2 = number\n",
    "    N1 = 0\n",
    "    inner_points = []\n",
    "    outer_points = []\n",
    "    for i in range(N2):\n",
    "        x = random.random()  #随机生成0~1实数\n",
    "        y = random.random()\n",
    "        if x*x+y*y<=1:\n",
    "            N1+=1\n",
    "            inner_points.append((x,y))\n",
    "        else:\n",
    "            outer_points.append((x,y))\n",
    "    print(\"PI=\", 4*N1/N2)"
   ]
  },
  {
   "cell_type": "code",
   "execution_count": 4,
   "metadata": {},
   "outputs": [
    {
     "name": "stdout",
     "output_type": "stream",
     "text": [
      "PI= 3.1396\n"
     ]
    }
   ],
   "source": [
    "MonPi(100000)"
   ]
  },
  {
   "cell_type": "code",
   "execution_count": 5,
   "metadata": {},
   "outputs": [
    {
     "name": "stdout",
     "output_type": "stream",
     "text": [
      "PI= 3.141658\n"
     ]
    }
   ],
   "source": [
    "MonPi(10000000)"
   ]
  },
  {
   "cell_type": "code",
   "execution_count": null,
   "metadata": {},
   "outputs": [],
   "source": []
  }
 ],
 "metadata": {
  "kernelspec": {
   "display_name": "Python 3",
   "language": "python",
   "name": "python3"
  },
  "language_info": {
   "codemirror_mode": {
    "name": "ipython",
    "version": 3
   },
   "file_extension": ".py",
   "mimetype": "text/x-python",
   "name": "python",
   "nbconvert_exporter": "python",
   "pygments_lexer": "ipython3",
   "version": "3.7.0"
  }
 },
 "nbformat": 4,
 "nbformat_minor": 2
}
