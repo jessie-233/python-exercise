{
 "cells": [
  {
   "cell_type": "code",
   "execution_count": null,
   "metadata": {},
   "outputs": [],
   "source": [
    "count = -1\n",
    "i = 1\n",
    "aver = 0\n",
    "sum = 0\n",
    "while i != 0:\n",
    "    count += 1\n",
    "    i = eval(input('enter a number: '))\n",
    "    sum += i\n",
    "if count == 0:\n",
    "    print('输入错误')\n",
    "else:\n",
    "    aver = sum / count\n",
    "    print('平均值为：%.2f'%aver)    "
   ]
  },
  {
   "cell_type": "code",
   "execution_count": null,
   "metadata": {},
   "outputs": [],
   "source": []
  }
 ],
 "metadata": {
  "kernelspec": {
   "display_name": "Python 3",
   "language": "python",
   "name": "python3"
  },
  "language_info": {
   "codemirror_mode": {
    "name": "ipython",
    "version": 3
   },
   "file_extension": ".py",
   "mimetype": "text/x-python",
   "name": "python",
   "nbconvert_exporter": "python",
   "pygments_lexer": "ipython3",
   "version": "3.7.0"
  }
 },
 "nbformat": 4,
 "nbformat_minor": 2
}
