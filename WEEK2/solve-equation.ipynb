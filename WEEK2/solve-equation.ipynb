{
 "cells": [
  {
   "cell_type": "code",
   "execution_count": 22,
   "metadata": {},
   "outputs": [],
   "source": [
    "import math as math"
   ]
  },
  {
   "cell_type": "markdown",
   "metadata": {},
   "source": [
    "$$\n",
    "ax^2+bx+c=0\n",
    "$$\n",
    "\n",
    "if a不等于0且b^2-4ac大于等于0：\n",
    "$$\n",
    "x_1=\\frac{-b}{2}+\\frac{\\sqrt{b^2-4ac}}{2}\n",
    "$$\n",
    "\n",
    "$$\n",
    "x_2=\\frac{-b}{2}-\\frac{\\sqrt{b^2-4ac}}{2}\n",
    "$$\n",
    "if a=0：\n",
    "\n",
    " if b不等于0\n",
    "$$\n",
    "x=\\frac{-c}{b}\n",
    "$$\n",
    " if b等于0\n",
    "$$\n",
    "无解\n",
    "$$"
   ]
  },
  {
   "cell_type": "code",
   "execution_count": 23,
   "metadata": {},
   "outputs": [],
   "source": [
    "def solve_equ(a,b,c):\n",
    "    if a!=0:\n",
    "        var1 = -b\n",
    "        var2 = b**2 - 4*a*c\n",
    "        if var2 >= 0:\n",
    "            var3 = math.sqrt(var2)\n",
    "            root1 = (var1 + var3)/2.0\n",
    "            root2 = (var1 - var3)/2.0\n",
    "            return root1,root2\n",
    "        else:\n",
    "            print('no real root!')\n",
    "    elif a==0 and b!=0:\n",
    "        root = -c/b\n",
    "        return root\n",
    "    else:\n",
    "        print('no solution!')\n"
   ]
  },
  {
   "cell_type": "code",
   "execution_count": 24,
   "metadata": {},
   "outputs": [
    {
     "name": "stdout",
     "output_type": "stream",
     "text": [
      "(-1.0, -1.0)\n"
     ]
    }
   ],
   "source": [
    "print(solve_equ(1,2,1))"
   ]
  },
  {
   "cell_type": "code",
   "execution_count": 25,
   "metadata": {},
   "outputs": [
    {
     "name": "stdout",
     "output_type": "stream",
     "text": [
      "-0.5\n"
     ]
    }
   ],
   "source": [
    "print(solve_equ(0,2,1))"
   ]
  },
  {
   "cell_type": "code",
   "execution_count": 26,
   "metadata": {},
   "outputs": [
    {
     "name": "stdout",
     "output_type": "stream",
     "text": [
      "no solution!\n",
      "None\n"
     ]
    }
   ],
   "source": [
    "print(solve_equ(0,0,1))"
   ]
  },
  {
   "cell_type": "code",
   "execution_count": 27,
   "metadata": {},
   "outputs": [
    {
     "name": "stdout",
     "output_type": "stream",
     "text": [
      "-0.2\n"
     ]
    }
   ],
   "source": [
    "print(solve_equ(0,5,1))"
   ]
  },
  {
   "cell_type": "code",
   "execution_count": 28,
   "metadata": {},
   "outputs": [
    {
     "name": "stdout",
     "output_type": "stream",
     "text": [
      "no real root!\n",
      "None\n"
     ]
    }
   ],
   "source": [
    "print(solve_equ(1,3,10))"
   ]
  },
  {
   "cell_type": "code",
   "execution_count": null,
   "metadata": {},
   "outputs": [],
   "source": []
  }
 ],
 "metadata": {
  "kernelspec": {
   "display_name": "Python 3",
   "language": "python",
   "name": "python3"
  },
  "language_info": {
   "codemirror_mode": {
    "name": "ipython",
    "version": 3
   },
   "file_extension": ".py",
   "mimetype": "text/x-python",
   "name": "python",
   "nbconvert_exporter": "python",
   "pygments_lexer": "ipython3",
   "version": "3.7.0"
  }
 },
 "nbformat": 4,
 "nbformat_minor": 2
}
